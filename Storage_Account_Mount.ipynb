{
 "cells": [
  {
   "cell_type": "markdown",
   "metadata": {
    "application/vnd.databricks.v1+cell": {
     "cellMetadata": {},
     "inputWidgets": {},
     "nuid": "d08e0033-054f-4293-8420-f3f88795b0a0",
     "showTitle": false,
     "tableResultSettingsMap": {},
     "title": ""
    }
   },
   "source": [
    "# Mounting the Storage Account to Databricks\n",
    "In this notebook, we are mounting the 3 storage account containers (bronze, silver, gold) to databricks such that we can access the data from it and store it after transformation"
   ]
  },
  {
   "cell_type": "code",
   "execution_count": 0,
   "metadata": {
    "application/vnd.databricks.v1+cell": {
     "cellMetadata": {
      "byteLimit": 2048000,
      "rowLimit": 10000
     },
     "inputWidgets": {},
     "nuid": "e55784c5-6b18-496b-a333-2f5989516516",
     "showTitle": false,
     "tableResultSettingsMap": {},
     "title": ""
    }
   },
   "outputs": [
    {
     "output_type": "stream",
     "name": "stdout",
     "output_type": "stream",
     "text": [
      "Mount point already exists\n"
     ]
    }
   ],
   "source": [
    "# Define the configuration for OAuth authentication\n",
    "configs = {\n",
    "    # Specify OAuth as the authentication type\n",
    "    \"fs.azure.account.auth.type\": \"OAuth\",\n",
    "    \n",
    "    # Specify the OAuth provider type for service principal authentication\n",
    "    \"fs.azure.account.oauth.provider.type\": \"org.apache.hadoop.fs.azurebfs.oauth2.ClientCredsTokenProvider\",\n",
    "    \n",
    "    # Your service principal's application (client) ID\n",
    "    \"fs.azure.account.oauth2.client.id\": \"c91c3533-5d99-4f91-b8bb-7e635d245731\",\n",
    "    \n",
    "    # Retrieve the client secret from Databricks secret scope\n",
    "    \"fs.azure.account.oauth2.client.secret\": dbutils.secrets.get(\n",
    "        scope=\"key-vault-scope\",  # Your secret scope name\n",
    "        key= \"adv-works-service-principal-secret\"  # Your secret name\n",
    "    ),\n",
    "    \n",
    "    # The OAuth 2.0 token endpoint for your Azure AD tenant\n",
    "    \"fs.azure.account.oauth2.client.endpoint\": \"https://login.microsoftonline.com/eaa0b275-681b-49ad-ac49-68b366d4d77b/oauth2/token\"\n",
    "}\n",
    "\n",
    "# Check if the mount point already exists\n",
    "if not any(mount.mountPoint == \"/mnt/bronze\" for mount in dbutils.fs.mounts()):\n",
    "    try:\n",
    "        # Attempt to mount the storage\n",
    "        dbutils.fs.mount(\n",
    "            source = \"abfss://bronze@storageaccountadvworks.dfs.core.windows.net/\",\n",
    "            mount_point = \"/mnt/bronze\",\n",
    "            extra_configs = configs\n",
    "        )\n",
    "        print(\"Storage mounted successfully!\")\n",
    "        \n",
    "    except Exception as e:\n",
    "        print(f\"Error mounting storage: {str(e)}\")\n",
    "else:\n",
    "    print(\"Mount point already exists\")"
   ]
  },
  {
   "cell_type": "code",
   "execution_count": 0,
   "metadata": {
    "application/vnd.databricks.v1+cell": {
     "cellMetadata": {
      "byteLimit": 2048000,
      "rowLimit": 10000
     },
     "inputWidgets": {},
     "nuid": "ddfdcf61-4a98-4ed1-a3d1-79a3bdc3dae8",
     "showTitle": false,
     "tableResultSettingsMap": {},
     "title": ""
    }
   },
   "outputs": [
    {
     "output_type": "display_data",
     "data": {
      "text/html": [
       "<style scoped>\n",
       "  .table-result-container {\n",
       "    max-height: 300px;\n",
       "    overflow: auto;\n",
       "  }\n",
       "  table, th, td {\n",
       "    border: 1px solid black;\n",
       "    border-collapse: collapse;\n",
       "  }\n",
       "  th, td {\n",
       "    padding: 5px;\n",
       "  }\n",
       "  th {\n",
       "    text-align: left;\n",
       "  }\n",
       "</style><div class='table-result-container'><table class='table-result'><thead style='background-color: white'><tr><th>path</th><th>name</th><th>size</th><th>modificationTime</th></tr></thead><tbody><tr><td>dbfs:/mnt/bronze/SalesLT/</td><td>SalesLT/</td><td>0</td><td>1734963052000</td></tr></tbody></table></div>"
      ]
     },
     "metadata": {
      "application/vnd.databricks.v1+output": {
       "addedWidgets": {},
       "aggData": [],
       "aggError": "",
       "aggOverflow": false,
       "aggSchema": [],
       "aggSeriesLimitReached": false,
       "aggType": "",
       "arguments": {},
       "columnCustomDisplayInfos": {},
       "data": [
        [
         "dbfs:/mnt/bronze/SalesLT/",
         "SalesLT/",
         0,
         1734963052000
        ]
       ],
       "datasetInfos": [],
       "dbfsResultPath": null,
       "isJsonSchema": true,
       "metadata": {},
       "overflow": false,
       "plotOptions": {
        "customPlotOptions": {},
        "displayType": "table",
        "pivotAggregation": null,
        "pivotColumns": null,
        "xColumns": null,
        "yColumns": null
       },
       "removedWidgets": [],
       "schema": [
        {
         "metadata": "{}",
         "name": "path",
         "type": "\"string\""
        },
        {
         "metadata": "{}",
         "name": "name",
         "type": "\"string\""
        },
        {
         "metadata": "{}",
         "name": "size",
         "type": "\"long\""
        },
        {
         "metadata": "{}",
         "name": "modificationTime",
         "type": "\"long\""
        }
       ],
       "type": "table"
      }
     },
     "output_type": "display_data"
    }
   ],
   "source": [
    "# Verify the mount\n",
    "display(dbutils.fs.ls(\"/mnt/bronze\"))"
   ]
  },
  {
   "cell_type": "code",
   "execution_count": 0,
   "metadata": {
    "application/vnd.databricks.v1+cell": {
     "cellMetadata": {
      "byteLimit": 2048000,
      "rowLimit": 10000
     },
     "inputWidgets": {},
     "nuid": "358daf78-15b3-422e-af53-71e00cc6a7f7",
     "showTitle": false,
     "tableResultSettingsMap": {},
     "title": ""
    }
   },
   "outputs": [
    {
     "output_type": "stream",
     "name": "stdout",
     "output_type": "stream",
     "text": [
      "Silver - Storage mounted successfully!\n"
     ]
    }
   ],
   "source": [
    "# Check if the mount point already exists\n",
    "if not any(mount.mountPoint == \"/mnt/silver\" for mount in dbutils.fs.mounts()):\n",
    "    try:\n",
    "        # Attempt to mount the storage\n",
    "        dbutils.fs.mount(\n",
    "            source = \"abfss://silver@storageaccountadvworks.dfs.core.windows.net/\",\n",
    "            mount_point = \"/mnt/silver\",\n",
    "            extra_configs = configs\n",
    "        )\n",
    "        print(\"Silver - Storage mounted successfully!\")\n",
    "        \n",
    "    except Exception as e:\n",
    "        print(f\"Error mounting storage: {str(e)}\")\n",
    "else:\n",
    "    print(\"Silver - Mount point already exists\")"
   ]
  },
  {
   "cell_type": "code",
   "execution_count": 0,
   "metadata": {
    "application/vnd.databricks.v1+cell": {
     "cellMetadata": {
      "byteLimit": 2048000,
      "rowLimit": 10000
     },
     "inputWidgets": {},
     "nuid": "22cd9ca6-a946-4126-9a75-e6e89f64186c",
     "showTitle": false,
     "tableResultSettingsMap": {},
     "title": ""
    }
   },
   "outputs": [
    {
     "output_type": "stream",
     "name": "stdout",
     "output_type": "stream",
     "text": [
      "Gold - Storage mounted successfully!\n"
     ]
    }
   ],
   "source": [
    "# Check if the mount point already exists\n",
    "if not any(mount.mountPoint == \"/mnt/gold\" for mount in dbutils.fs.mounts()):\n",
    "    try:\n",
    "        # Attempt to mount the storage\n",
    "        dbutils.fs.mount(\n",
    "            source = \"abfss://gold@storageaccountadvworks.dfs.core.windows.net/\",\n",
    "            mount_point = \"/mnt/gold\",\n",
    "            extra_configs = configs\n",
    "        )\n",
    "        print(\"Gold - Storage mounted successfully!\")\n",
    "        \n",
    "    except Exception as e:\n",
    "        print(f\"Error mounting storage: {str(e)}\")\n",
    "else:\n",
    "    print(\"Gold - Mount point already exists\")"
   ]
  }
 ],
 "metadata": {
  "application/vnd.databricks.v1+notebook": {
   "computePreferences": null,
   "dashboards": [],
   "environmentMetadata": {
    "base_environment": "",
    "client": "1"
   },
   "language": "python",
   "notebookMetadata": {
    "pythonIndentUnit": 4
   },
   "notebookName": "Storage_Account_Mount",
   "widgets": {}
  },
  "language_info": {
   "name": "python"
  }
 },
 "nbformat": 4,
 "nbformat_minor": 0
}