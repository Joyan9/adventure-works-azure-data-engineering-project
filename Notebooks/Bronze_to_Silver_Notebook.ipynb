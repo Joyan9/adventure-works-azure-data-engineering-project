{
 "cells": [
  {
   "cell_type": "markdown",
   "metadata": {
    "application/vnd.databricks.v1+cell": {
     "cellMetadata": {},
     "inputWidgets": {},
     "nuid": "e3b812e9-8edf-4d23-8313-58356e80dc34",
     "showTitle": false,
     "tableResultSettingsMap": {},
     "title": ""
    }
   },
   "source": [
    "# Transforming Raw Data from Bronze Container"
   ]
  },
  {
   "cell_type": "code",
   "execution_count": 0,
   "metadata": {
    "application/vnd.databricks.v1+cell": {
     "cellMetadata": {
      "byteLimit": 2048000,
      "rowLimit": 10000
     },
     "inputWidgets": {},
     "nuid": "38732b2f-f77d-4add-a596-a99c7ea6be3c",
     "showTitle": false,
     "tableResultSettingsMap": {},
     "title": ""
    }
   },
   "outputs": [],
   "source": [
    "from pyspark.sql.functions import *\n",
    "from pyspark.sql.types import *"
   ]
  },
  {
   "cell_type": "code",
   "execution_count": 0,
   "metadata": {
    "application/vnd.databricks.v1+cell": {
     "cellMetadata": {
      "byteLimit": 2048000,
      "rowLimit": 10000
     },
     "inputWidgets": {},
     "nuid": "d723c72d-3022-4dac-94bf-cec02d301dcd",
     "showTitle": false,
     "tableResultSettingsMap": {},
     "title": ""
    }
   },
   "outputs": [
    {
     "output_type": "execute_result",
     "data": {
      "text/plain": [
       "[FileInfo(path='dbfs:/mnt/bronze/SalesLT/Address/', name='Address/', size=0, modificationTime=1734963059000),\n",
       " FileInfo(path='dbfs:/mnt/bronze/SalesLT/Customer/', name='Customer/', size=0, modificationTime=1734963071000),\n",
       " FileInfo(path='dbfs:/mnt/bronze/SalesLT/CustomerAddress/', name='CustomerAddress/', size=0, modificationTime=1734963052000),\n",
       " FileInfo(path='dbfs:/mnt/bronze/SalesLT/Product/', name='Product/', size=0, modificationTime=1734963064000),\n",
       " FileInfo(path='dbfs:/mnt/bronze/SalesLT/ProductCategory/', name='ProductCategory/', size=0, modificationTime=1734963055000),\n",
       " FileInfo(path='dbfs:/mnt/bronze/SalesLT/ProductDescription/', name='ProductDescription/', size=0, modificationTime=1734963080000),\n",
       " FileInfo(path='dbfs:/mnt/bronze/SalesLT/ProductModel/', name='ProductModel/', size=0, modificationTime=1734963077000),\n",
       " FileInfo(path='dbfs:/mnt/bronze/SalesLT/ProductModelProductDescription/', name='ProductModelProductDescription/', size=0, modificationTime=1734963071000),\n",
       " FileInfo(path='dbfs:/mnt/bronze/SalesLT/SalesOrderDetail/', name='SalesOrderDetail/', size=0, modificationTime=1734963060000),\n",
       " FileInfo(path='dbfs:/mnt/bronze/SalesLT/SalesOrderHeader/', name='SalesOrderHeader/', size=0, modificationTime=1734963078000)]"
      ]
     },
     "execution_count": 1,
     "metadata": {},
     "output_type": "execute_result"
    }
   ],
   "source": [
    "dbutils.fs.ls('mnt/bronze/SalesLT/')"
   ]
  },
  {
   "cell_type": "code",
   "execution_count": 0,
   "metadata": {
    "application/vnd.databricks.v1+cell": {
     "cellMetadata": {
      "byteLimit": 2048000,
      "rowLimit": 10000
     },
     "inputWidgets": {},
     "nuid": "2c453738-234a-4858-ba59-63d88f3518d4",
     "showTitle": false,
     "tableResultSettingsMap": {},
     "title": ""
    }
   },
   "outputs": [
    {
     "output_type": "execute_result",
     "data": {
      "text/plain": [
       "[]"
      ]
     },
     "execution_count": 2,
     "metadata": {},
     "output_type": "execute_result"
    }
   ],
   "source": [
    "dbutils.fs.ls('mnt/silver/')"
   ]
  },
  {
   "cell_type": "code",
   "execution_count": 0,
   "metadata": {
    "application/vnd.databricks.v1+cell": {
     "cellMetadata": {
      "byteLimit": 2048000,
      "rowLimit": 10000
     },
     "inputWidgets": {},
     "nuid": "41dff98a-63f8-4591-a284-c1b3acababc0",
     "showTitle": false,
     "tableResultSettingsMap": {},
     "title": ""
    }
   },
   "outputs": [
    {
     "output_type": "display_data",
     "data": {
      "text/html": [
       "<style scoped>\n",
       "  .table-result-container {\n",
       "    max-height: 300px;\n",
       "    overflow: auto;\n",
       "  }\n",
       "  table, th, td {\n",
       "    border: 1px solid black;\n",
       "    border-collapse: collapse;\n",
       "  }\n",
       "  th, td {\n",
       "    padding: 5px;\n",
       "  }\n",
       "  th {\n",
       "    text-align: left;\n",
       "  }\n",
       "</style><div class='table-result-container'><table class='table-result'><thead style='background-color: white'><tr><th>SalesOrderID</th><th>SalesOrderDetailID</th><th>OrderQty</th><th>ProductID</th><th>UnitPrice</th><th>UnitPriceDiscount</th><th>LineTotal</th><th>rowguid</th><th>ModifiedDate</th></tr></thead><tbody><tr><td>71774</td><td>110562</td><td>1</td><td>836</td><td>356.8980</td><td>0.0000</td><td>356.898000</td><td>e3a1994c-7a68-4ce8-96a3-77fdd3bbd730</td><td>2008-06-01T00:00:00Z</td></tr><tr><td>71774</td><td>110563</td><td>1</td><td>822</td><td>356.8980</td><td>0.0000</td><td>356.898000</td><td>5c77f557-fdb6-43ba-90b9-9a7aec55ca32</td><td>2008-06-01T00:00:00Z</td></tr><tr><td>71776</td><td>110567</td><td>1</td><td>907</td><td>63.9000</td><td>0.0000</td><td>63.900000</td><td>6dbfe398-d15d-425e-aa58-88178fe360e5</td><td>2008-06-01T00:00:00Z</td></tr><tr><td>71780</td><td>110616</td><td>4</td><td>905</td><td>218.4540</td><td>0.0000</td><td>873.816000</td><td>377246c9-4483-48ed-a5b9-e56f005364e0</td><td>2008-06-01T00:00:00Z</td></tr><tr><td>71780</td><td>110617</td><td>2</td><td>983</td><td>461.6940</td><td>0.0000</td><td>923.388000</td><td>43a54bcd-536d-4a1b-8e69-24d083507a14</td><td>2008-06-01T00:00:00Z</td></tr><tr><td>71780</td><td>110618</td><td>6</td><td>988</td><td>112.9980</td><td>0.4000</td><td>406.792800</td><td>12706fab-f3a2-48c6-b7c7-1ccde4081f18</td><td>2008-06-01T00:00:00Z</td></tr><tr><td>71780</td><td>110619</td><td>2</td><td>748</td><td>818.7000</td><td>0.0000</td><td>1637.400000</td><td>b12f0d3b-5b4e-4f1f-b2f0-f7cde99dd826</td><td>2008-06-01T00:00:00Z</td></tr><tr><td>71780</td><td>110620</td><td>1</td><td>990</td><td>323.9940</td><td>0.0000</td><td>323.994000</td><td>f117a449-039d-44b8-a4b2-b12001dacc01</td><td>2008-06-01T00:00:00Z</td></tr><tr><td>71780</td><td>110621</td><td>1</td><td>926</td><td>149.8740</td><td>0.0000</td><td>149.874000</td><td>92e5052b-72d0-4c91-9a8c-42591803667e</td><td>2008-06-01T00:00:00Z</td></tr><tr><td>71780</td><td>110622</td><td>1</td><td>743</td><td>809.7600</td><td>0.0000</td><td>809.760000</td><td>8bd33bed-c4f6-4d44-84fb-a7d04afcd794</td><td>2008-06-01T00:00:00Z</td></tr></tbody></table></div>"
      ]
     },
     "metadata": {
      "application/vnd.databricks.v1+output": {
       "addedWidgets": {},
       "aggData": [],
       "aggError": "",
       "aggOverflow": false,
       "aggSchema": [],
       "aggSeriesLimitReached": false,
       "aggType": "",
       "arguments": {},
       "columnCustomDisplayInfos": {},
       "data": [
        [
         71774,
         110562,
         1,
         836,
         "356.8980",
         "0.0000",
         "356.898000",
         "e3a1994c-7a68-4ce8-96a3-77fdd3bbd730",
         "2008-06-01T00:00:00Z"
        ],
        [
         71774,
         110563,
         1,
         822,
         "356.8980",
         "0.0000",
         "356.898000",
         "5c77f557-fdb6-43ba-90b9-9a7aec55ca32",
         "2008-06-01T00:00:00Z"
        ],
        [
         71776,
         110567,
         1,
         907,
         "63.9000",
         "0.0000",
         "63.900000",
         "6dbfe398-d15d-425e-aa58-88178fe360e5",
         "2008-06-01T00:00:00Z"
        ],
        [
         71780,
         110616,
         4,
         905,
         "218.4540",
         "0.0000",
         "873.816000",
         "377246c9-4483-48ed-a5b9-e56f005364e0",
         "2008-06-01T00:00:00Z"
        ],
        [
         71780,
         110617,
         2,
         983,
         "461.6940",
         "0.0000",
         "923.388000",
         "43a54bcd-536d-4a1b-8e69-24d083507a14",
         "2008-06-01T00:00:00Z"
        ],
        [
         71780,
         110618,
         6,
         988,
         "112.9980",
         "0.4000",
         "406.792800",
         "12706fab-f3a2-48c6-b7c7-1ccde4081f18",
         "2008-06-01T00:00:00Z"
        ],
        [
         71780,
         110619,
         2,
         748,
         "818.7000",
         "0.0000",
         "1637.400000",
         "b12f0d3b-5b4e-4f1f-b2f0-f7cde99dd826",
         "2008-06-01T00:00:00Z"
        ],
        [
         71780,
         110620,
         1,
         990,
         "323.9940",
         "0.0000",
         "323.994000",
         "f117a449-039d-44b8-a4b2-b12001dacc01",
         "2008-06-01T00:00:00Z"
        ],
        [
         71780,
         110621,
         1,
         926,
         "149.8740",
         "0.0000",
         "149.874000",
         "92e5052b-72d0-4c91-9a8c-42591803667e",
         "2008-06-01T00:00:00Z"
        ],
        [
         71780,
         110622,
         1,
         743,
         "809.7600",
         "0.0000",
         "809.760000",
         "8bd33bed-c4f6-4d44-84fb-a7d04afcd794",
         "2008-06-01T00:00:00Z"
        ]
       ],
       "datasetInfos": [],
       "dbfsResultPath": null,
       "isJsonSchema": true,
       "metadata": {},
       "overflow": false,
       "plotOptions": {
        "customPlotOptions": {},
        "displayType": "table",
        "pivotAggregation": null,
        "pivotColumns": null,
        "xColumns": null,
        "yColumns": null
       },
       "removedWidgets": [],
       "schema": [
        {
         "metadata": "{}",
         "name": "SalesOrderID",
         "type": "\"integer\""
        },
        {
         "metadata": "{}",
         "name": "SalesOrderDetailID",
         "type": "\"integer\""
        },
        {
         "metadata": "{}",
         "name": "OrderQty",
         "type": "\"integer\""
        },
        {
         "metadata": "{}",
         "name": "ProductID",
         "type": "\"integer\""
        },
        {
         "metadata": "{}",
         "name": "UnitPrice",
         "type": "\"decimal(19,4)\""
        },
        {
         "metadata": "{}",
         "name": "UnitPriceDiscount",
         "type": "\"decimal(19,4)\""
        },
        {
         "metadata": "{}",
         "name": "LineTotal",
         "type": "\"decimal(38,6)\""
        },
        {
         "metadata": "{}",
         "name": "rowguid",
         "type": "\"string\""
        },
        {
         "metadata": "{}",
         "name": "ModifiedDate",
         "type": "\"timestamp\""
        }
       ],
       "type": "table"
      }
     },
     "output_type": "display_data"
    }
   ],
   "source": [
    "df_sales_details = spark.read.format('parquet').load('/mnt/bronze/SalesLT/SalesOrderDetail/')\n",
    "df_sales_details.limit(10).display()"
   ]
  },
  {
   "cell_type": "code",
   "execution_count": 0,
   "metadata": {
    "application/vnd.databricks.v1+cell": {
     "cellMetadata": {
      "byteLimit": 2048000,
      "rowLimit": 10000
     },
     "inputWidgets": {},
     "nuid": "8d3e75a8-397e-461c-8cee-746b0ff06f6c",
     "showTitle": false,
     "tableResultSettingsMap": {},
     "title": ""
    }
   },
   "outputs": [
    {
     "output_type": "display_data",
     "data": {
      "text/html": [
       "<style scoped>\n",
       "  .table-result-container {\n",
       "    max-height: 300px;\n",
       "    overflow: auto;\n",
       "  }\n",
       "  table, th, td {\n",
       "    border: 1px solid black;\n",
       "    border-collapse: collapse;\n",
       "  }\n",
       "  th, td {\n",
       "    padding: 5px;\n",
       "  }\n",
       "  th {\n",
       "    text-align: left;\n",
       "  }\n",
       "</style><div class='table-result-container'><table class='table-result'><thead style='background-color: white'><tr><th>AddressID</th><th>AddressLine1</th><th>AddressLine2</th><th>City</th><th>StateProvince</th><th>CountryRegion</th><th>PostalCode</th><th>rowguid</th><th>ModifiedDate</th></tr></thead><tbody><tr><td>9</td><td>8713 Yosemite Ct.</td><td>null</td><td>Bothell</td><td>Washington</td><td>United States</td><td>98011</td><td>268af621-76d7-4c78-9441-144fd139821a</td><td>2006-07-01T00:00:00Z</td></tr><tr><td>11</td><td>1318 Lasalle Street</td><td>null</td><td>Bothell</td><td>Washington</td><td>United States</td><td>98011</td><td>981b3303-aca2-49c7-9a96-fb670785b269</td><td>2007-04-01T00:00:00Z</td></tr><tr><td>25</td><td>9178 Jumping St.</td><td>null</td><td>Dallas</td><td>Texas</td><td>United States</td><td>75201</td><td>c8df3bd9-48f0-4654-a8dd-14a67a84d3c6</td><td>2006-09-01T00:00:00Z</td></tr><tr><td>28</td><td>9228 Via Del Sol</td><td>null</td><td>Phoenix</td><td>Arizona</td><td>United States</td><td>85004</td><td>12ae5ee1-fc3e-468b-9b92-3b970b169774</td><td>2005-09-01T00:00:00Z</td></tr><tr><td>32</td><td>26910 Indela Road</td><td>null</td><td>Montreal</td><td>Quebec</td><td>Canada</td><td>H1Y 2H5</td><td>84a95f62-3ae8-4e7e-bbd5-5a6f00cd982d</td><td>2006-08-01T00:00:00Z</td></tr><tr><td>185</td><td>2681 Eagle Peak</td><td>null</td><td>Bellevue</td><td>Washington</td><td>United States</td><td>98004</td><td>7bccf442-2268-46cc-8472-14c44c14e98c</td><td>2006-09-01T00:00:00Z</td></tr><tr><td>297</td><td>7943 Walnut Ave</td><td>null</td><td>Renton</td><td>Washington</td><td>United States</td><td>98055</td><td>52410da4-2778-4b1d-a599-95746625ce6d</td><td>2006-08-01T00:00:00Z</td></tr><tr><td>445</td><td>6388 Lake City Way</td><td>null</td><td>Burnaby</td><td>British Columbia</td><td>Canada</td><td>V5A 3A6</td><td>53572f25-9133-4a8b-a065-102ff35416ee</td><td>2006-09-01T00:00:00Z</td></tr><tr><td>446</td><td>52560 Free Street</td><td>null</td><td>Toronto</td><td>Ontario</td><td>Canada</td><td>M4B 1V7</td><td>801a1dfc-5125-486b-aa84-ccbd2ec57ca4</td><td>2005-08-01T00:00:00Z</td></tr><tr><td>447</td><td>22580 Free Street</td><td>null</td><td>Toronto</td><td>Ontario</td><td>Canada</td><td>M4B 1V7</td><td>88cee379-dbb8-433b-b84e-a35e09435500</td><td>2006-08-01T00:00:00Z</td></tr></tbody></table></div>"
      ]
     },
     "metadata": {
      "application/vnd.databricks.v1+output": {
       "addedWidgets": {},
       "aggData": [],
       "aggError": "",
       "aggOverflow": false,
       "aggSchema": [],
       "aggSeriesLimitReached": false,
       "aggType": "",
       "arguments": {},
       "columnCustomDisplayInfos": {},
       "data": [
        [
         9,
         "8713 Yosemite Ct.",
         null,
         "Bothell",
         "Washington",
         "United States",
         "98011",
         "268af621-76d7-4c78-9441-144fd139821a",
         "2006-07-01T00:00:00Z"
        ],
        [
         11,
         "1318 Lasalle Street",
         null,
         "Bothell",
         "Washington",
         "United States",
         "98011",
         "981b3303-aca2-49c7-9a96-fb670785b269",
         "2007-04-01T00:00:00Z"
        ],
        [
         25,
         "9178 Jumping St.",
         null,
         "Dallas",
         "Texas",
         "United States",
         "75201",
         "c8df3bd9-48f0-4654-a8dd-14a67a84d3c6",
         "2006-09-01T00:00:00Z"
        ],
        [
         28,
         "9228 Via Del Sol",
         null,
         "Phoenix",
         "Arizona",
         "United States",
         "85004",
         "12ae5ee1-fc3e-468b-9b92-3b970b169774",
         "2005-09-01T00:00:00Z"
        ],
        [
         32,
         "26910 Indela Road",
         null,
         "Montreal",
         "Quebec",
         "Canada",
         "H1Y 2H5",
         "84a95f62-3ae8-4e7e-bbd5-5a6f00cd982d",
         "2006-08-01T00:00:00Z"
        ],
        [
         185,
         "2681 Eagle Peak",
         null,
         "Bellevue",
         "Washington",
         "United States",
         "98004",
         "7bccf442-2268-46cc-8472-14c44c14e98c",
         "2006-09-01T00:00:00Z"
        ],
        [
         297,
         "7943 Walnut Ave",
         null,
         "Renton",
         "Washington",
         "United States",
         "98055",
         "52410da4-2778-4b1d-a599-95746625ce6d",
         "2006-08-01T00:00:00Z"
        ],
        [
         445,
         "6388 Lake City Way",
         null,
         "Burnaby",
         "British Columbia",
         "Canada",
         "V5A 3A6",
         "53572f25-9133-4a8b-a065-102ff35416ee",
         "2006-09-01T00:00:00Z"
        ],
        [
         446,
         "52560 Free Street",
         null,
         "Toronto",
         "Ontario",
         "Canada",
         "M4B 1V7",
         "801a1dfc-5125-486b-aa84-ccbd2ec57ca4",
         "2005-08-01T00:00:00Z"
        ],
        [
         447,
         "22580 Free Street",
         null,
         "Toronto",
         "Ontario",
         "Canada",
         "M4B 1V7",
         "88cee379-dbb8-433b-b84e-a35e09435500",
         "2006-08-01T00:00:00Z"
        ]
       ],
       "datasetInfos": [],
       "dbfsResultPath": null,
       "isJsonSchema": true,
       "metadata": {},
       "overflow": false,
       "plotOptions": {
        "customPlotOptions": {},
        "displayType": "table",
        "pivotAggregation": null,
        "pivotColumns": null,
        "xColumns": null,
        "yColumns": null
       },
       "removedWidgets": [],
       "schema": [
        {
         "metadata": "{}",
         "name": "AddressID",
         "type": "\"integer\""
        },
        {
         "metadata": "{}",
         "name": "AddressLine1",
         "type": "\"string\""
        },
        {
         "metadata": "{}",
         "name": "AddressLine2",
         "type": "\"string\""
        },
        {
         "metadata": "{}",
         "name": "City",
         "type": "\"string\""
        },
        {
         "metadata": "{}",
         "name": "StateProvince",
         "type": "\"string\""
        },
        {
         "metadata": "{}",
         "name": "CountryRegion",
         "type": "\"string\""
        },
        {
         "metadata": "{}",
         "name": "PostalCode",
         "type": "\"string\""
        },
        {
         "metadata": "{}",
         "name": "rowguid",
         "type": "\"string\""
        },
        {
         "metadata": "{}",
         "name": "ModifiedDate",
         "type": "\"timestamp\""
        }
       ],
       "type": "table"
      }
     },
     "output_type": "display_data"
    }
   ],
   "source": [
    "df_address = spark.read.format('parquet').load('/mnt/bronze/SalesLT/Address/')\n",
    "df_address.limit(10).display()"
   ]
  },
  {
   "cell_type": "markdown",
   "metadata": {
    "application/vnd.databricks.v1+cell": {
     "cellMetadata": {},
     "inputWidgets": {},
     "nuid": "342fcdc6-ab09-4792-a41f-ecc27c9e3475",
     "showTitle": false,
     "tableResultSettingsMap": {},
     "title": ""
    }
   },
   "source": [
    "The date column needs transformation"
   ]
  },
  {
   "cell_type": "code",
   "execution_count": 0,
   "metadata": {
    "application/vnd.databricks.v1+cell": {
     "cellMetadata": {
      "byteLimit": 2048000,
      "rowLimit": 10000
     },
     "inputWidgets": {},
     "nuid": "ad63b539-d61b-4cee-97d4-8d7b04055cc4",
     "showTitle": false,
     "tableResultSettingsMap": {},
     "title": ""
    }
   },
   "outputs": [
    {
     "output_type": "execute_result",
     "data": {
      "text/plain": [
       "['Address',\n",
       " 'Customer',\n",
       " 'CustomerAddress',\n",
       " 'Product',\n",
       " 'ProductCategory',\n",
       " 'ProductDescription',\n",
       " 'ProductModel',\n",
       " 'ProductModelProductDescription',\n",
       " 'SalesOrderDetail',\n",
       " 'SalesOrderHeader']"
      ]
     },
     "execution_count": 13,
     "metadata": {},
     "output_type": "execute_result"
    }
   ],
   "source": [
    "# Lets first load all the table names\n",
    "table_name = []\n",
    "\n",
    "for i in dbutils.fs.ls('mnt/bronze/SalesLT/'):\n",
    "    table_name.append(i.name.split('/')[0])\n",
    "\n",
    "table_name"
   ]
  },
  {
   "cell_type": "code",
   "execution_count": 0,
   "metadata": {
    "application/vnd.databricks.v1+cell": {
     "cellMetadata": {
      "byteLimit": 2048000,
      "rowLimit": 10000
     },
     "inputWidgets": {},
     "nuid": "c80babdb-9e98-442f-9cd4-e8128ea237b1",
     "showTitle": false,
     "tableResultSettingsMap": {},
     "title": ""
    }
   },
   "outputs": [],
   "source": [
    "# Iterate through each table name in the list\n",
    "for i in table_name:\n",
    "    # Construct the input path for the parquet file\n",
    "    # Format: /mnt/bronze/SalesLT/[table_name]/[table_name].parquet\n",
    "    path = '/mnt/bronze/SalesLT/' + i + '/' + i + '.parquet'\n",
    "    \n",
    "    # Read the parquet file into a Spark DataFrame\n",
    "    df = spark.read.format('parquet').load(path)\n",
    "    \n",
    "    # Get list of all columns in the DataFrame\n",
    "    column = df.columns\n",
    "    \n",
    "    # Iterate through each column in the DataFrame\n",
    "    for col in column:\n",
    "        # Check if column name contains 'Date' or 'date'\n",
    "        if \"Date\" in col or \"date\" in col:\n",
    "            # For date columns, perform the following transformations:\n",
    "            # 1. Cast the column to TimestampType\n",
    "            # 2. Convert from UTC timestamp\n",
    "            # 3. Format the date as 'yyyy-MM-dd'\n",
    "            df = df.withColumn(\n",
    "                col, \n",
    "                date_format(\n",
    "                    from_utc_timestamp(\n",
    "                        df[col].cast(TimestampType()), \n",
    "                        \"UTC\"\n",
    "                    ), \n",
    "                    \"yyyy-MM-dd\"\n",
    "                )\n",
    "            )\n",
    "    \n",
    "    # Construct the output path in the silver layer\n",
    "    output_path = '/mnt/silver/SalesLT/' + i + '/'\n",
    "    \n",
    "    # Write the transformed DataFrame to Delta format\n",
    "    # 'overwrite' mode will replace any existing data in the destination\n",
    "    df.write.format('delta').mode('overwrite').save(output_path)"
   ]
  },
  {
   "cell_type": "code",
   "execution_count": 0,
   "metadata": {
    "application/vnd.databricks.v1+cell": {
     "cellMetadata": {},
     "inputWidgets": {},
     "nuid": "d7f71c64-7522-4f41-88dd-dc033393468c",
     "showTitle": false,
     "tableResultSettingsMap": {},
     "title": ""
    }
   },
   "outputs": [],
   "source": []
  }
 ],
 "metadata": {
  "application/vnd.databricks.v1+notebook": {
   "computePreferences": null,
   "dashboards": [],
   "environmentMetadata": {
    "base_environment": "",
    "client": "1"
   },
   "language": "python",
   "notebookMetadata": {
    "pythonIndentUnit": 4
   },
   "notebookName": "Bronze_to_Silver_Notebook",
   "widgets": {}
  },
  "language_info": {
   "name": "python"
  }
 },
 "nbformat": 4,
 "nbformat_minor": 0
}